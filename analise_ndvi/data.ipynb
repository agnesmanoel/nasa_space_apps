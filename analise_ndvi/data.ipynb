{
 "cells": [
  {
   "cell_type": "code",
   "execution_count": 308,
   "metadata": {},
   "outputs": [],
   "source": [
    "import pandas as pd\n",
    "import matplotlib.pyplot as plt\n",
    "import numpy as np\n",
    "from sklearn.linear_model import LinearRegression\n"
   ]
  },
  {
   "cell_type": "markdown",
   "metadata": {},
   "source": [
    "### Separating by month"
   ]
  },
  {
   "cell_type": "markdown",
   "metadata": {},
   "source": [
    "-> Here we will have an dataframe that will show de ndvi in a month between 2020-2025 "
   ]
  },
  {
   "cell_type": "code",
   "execution_count": 309,
   "metadata": {},
   "outputs": [],
   "source": [
    "import pandas as pd\n",
    "\n",
    "df = pd.read_csv('ndvi_cerrado_2020-2025.csv')\n",
    "df['data'] = pd.to_datetime(df['data'])\n",
    "df['ndvi'] = df['ndvi'] / 10000\n",
    "\n",
    "df_ndvi_jan = df[df['data'].dt.month == 1]\n",
    "df_ndvi_feb = df[df['data'].dt.month == 2]\n",
    "df_ndvi_mar = df[df['data'].dt.month == 3]\n",
    "df_ndvi_apr = df[df['data'].dt.month == 4]\n",
    "df_ndvi_may = df[df['data'].dt.month == 5]\n",
    "df_ndvi_jun = df[df['data'].dt.month == 6]\n",
    "df_ndvi_jul = df[df['data'].dt.month == 7]\n",
    "df_ndvi_aug = df[df['data'].dt.month == 8]\n",
    "df_ndvi_sep = df[df['data'].dt.month == 9]\n",
    "df_ndvi_oct = df[df['data'].dt.month == 10]\n",
    "df_ndvi_nov = df[df['data'].dt.month == 11]\n",
    "df_ndvi_dev = df[df['data'].dt.month == 12]\n"
   ]
  },
  {
   "cell_type": "markdown",
   "metadata": {},
   "source": [
    "### Finding avg of ndvi in a month"
   ]
  },
  {
   "cell_type": "markdown",
   "metadata": {},
   "source": [
    "-> since they are meding two time a month, here we will get the avg of ndvi by month"
   ]
  },
  {
   "cell_type": "code",
   "execution_count": 310,
   "metadata": {},
   "outputs": [
    {
     "data": {
      "image/png": "[encoded data removed]",
      "text/plain": [
       "<Figure size 640x480 with 1 Axes>"
      ]
     },
     "metadata": {},
     "output_type": "display_data"
    }
   ],
   "source": [
    "    media_mensal_jan_ndvi = df_ndvi_jan.groupby(df['data'].dt.year)['ndvi'].mean().reset_index()\n",
    "    media_mensal_fev_ndvi = df_ndvi_feb.groupby(df['data'].dt.year)['ndvi'].mean().reset_index()\n",
    "    media_mensal_mar_ndvi = df_ndvi_mar.groupby(df['data'].dt.year)['ndvi'].mean().reset_index()\n",
    "    media_mensal_apr_ndvi = df_ndvi_apr.groupby(df['data'].dt.year)['ndvi'].mean().reset_index()\n",
    "    media_mensal_may_ndvi=  df_ndvi_may.groupby(df['data'].dt.year)['ndvi'].mean().reset_index()\n",
    "    media_mensal_jun_ndvi = df_ndvi_jun.groupby(df['data'].dt.year)['ndvi'].mean().reset_index()\n",
    "    media_mensal_jul_ndvi = df_ndvi_jul.groupby(df['data'].dt.year)['ndvi'].mean().reset_index()\n",
    "    media_mensal_ago_ndvi = df_ndvi_aug.groupby(df['data'].dt.year)['ndvi'].mean().reset_index()\n",
    "    media_mensal_set_ndvi = df_ndvi_sep.groupby(df['data'].dt.year)['ndvi'].mean().reset_index()\n",
    "    media_mensal_oct_ndvi = df_ndvi_oct.groupby(df['data'].dt.year)['ndvi'].mean().reset_index()\n",
    "    media_mensal_nov_ndvi = df_ndvi_nov.groupby(df['data'].dt.year)['ndvi'].mean().reset_index()\n",
    "    media_mensal_dec_ndvi = df_ndvi_dec.groupby(df['data'].dt.year)['ndvi'].mean().reset_index()\n",
    "\n",
    "\n",
    "plt.plot(media_mensal_dec['data'],media_mensal_dec['ndvi'])\n",
    "plt.show()"
   ]
  },
  {
   "cell_type": "markdown",
   "metadata": {},
   "source": [
    "### Pegando componentes do clima"
   ]
  },
  {
   "cell_type": "code",
   "execution_count": 311,
   "metadata": {},
   "outputs": [],
   "source": [
    "dados_precip = pd.read_csv('previsao_precipitacao_mensal_neural_menor.csv')\n",
    "dados_temp = pd.read_csv('previsao_temperatura_mensal_menor.csv')\n",
    "dados_umid = pd.read_csv('previsao_umidade_mensal_menor.csv')\n",
    "dados_vent = pd.read_csv('previsao_vento_mensal_menor.csv') "
   ]
  },
  {
   "cell_type": "markdown",
   "metadata": {},
   "source": [
    "### Pegando dados precip para cada mes entre 2020-2025"
   ]
  },
  {
   "cell_type": "code",
   "execution_count": 312,
   "metadata": {},
   "outputs": [
    {
     "name": "stdout",
     "output_type": "stream",
     "text": [
      "           ds       yhat1\n",
      "0  2020-01-31  133.033750\n",
      "12 2021-01-31   60.926140\n",
      "24 2022-01-31  215.264970\n",
      "36 2023-01-31  151.464700\n",
      "48 2024-01-31  118.769820\n",
      "60 2025-01-31  113.735214\n",
      "72 2026-01-31  113.653550\n"
     ]
    }
   ],
   "source": [
    "dados_precip['ds']= pd.to_datetime(dados_precip['ds'])\n",
    "\n",
    "dados_precip_jan = dados_precip[dados_precip['ds'].dt.month == 1]\n",
    "dados_precip_fev = dados_precip[dados_precip['ds'].dt.month == 2]\n",
    "dados_precip_mar = dados_precip[dados_precip['ds'].dt.month == 3]\n",
    "dados_precip_apr = dados_precip[dados_precip['ds'].dt.month == 4]\n",
    "dados_precip_may = dados_precip[dados_precip['ds'].dt.month == 5]\n",
    "dados_precip_jun = dados_precip[dados_precip['ds'].dt.month == 6]\n",
    "dados_precip_jul = dados_precip[dados_precip['ds'].dt.month == 7]\n",
    "dados_precip_ago = dados_precip[dados_precip['ds'].dt.month == 8]\n",
    "dados_precip_set = dados_precip[dados_precip['ds'].dt.month == 9]\n",
    "dados_precip_out = dados_precip[dados_precip['ds'].dt.month == 10]\n",
    "dados_precip_nov = dados_precip[dados_precip['ds'].dt.month == 11]\n",
    "dados_precip_dez = dados_precip[dados_precip['ds'].dt.month == 12]\n",
    "\n",
    "print(dados_precip_jan)\n"
   ]
  },
  {
   "cell_type": "markdown",
   "metadata": {},
   "source": [
    "### Pegando dados temp para cada mes entre 2020-2025"
   ]
  },
  {
   "cell_type": "code",
   "execution_count": 313,
   "metadata": {},
   "outputs": [
    {
     "name": "stdout",
     "output_type": "stream",
     "text": [
      "           ds      yhat1\n",
      "3  2020-04-30  23.839970\n",
      "15 2021-04-30  24.755240\n",
      "27 2022-04-30  23.622600\n",
      "39 2023-04-30  24.799007\n",
      "51 2024-04-30  25.418533\n",
      "63 2025-04-30  25.799778\n",
      "75 2026-04-30  26.180775\n"
     ]
    }
   ],
   "source": [
    "dados_temp['ds']= pd.to_datetime(dados_temp['ds'])\n",
    "\n",
    "dados_temp_jan = dados_temp[dados_temp['ds'].dt.month == 1]\n",
    "dados_temp_fev = dados_temp[dados_temp['ds'].dt.month == 2]\n",
    "dados_temp_mar = dados_temp[dados_temp['ds'].dt.month == 3]\n",
    "dados_temp_apr = dados_temp[dados_temp['ds'].dt.month == 4]\n",
    "dados_temp_may = dados_temp[dados_temp['ds'].dt.month == 5]\n",
    "dados_temp_jun = dados_temp[dados_temp['ds'].dt.month == 6]\n",
    "dados_temp_jul = dados_temp[dados_temp['ds'].dt.month == 7]\n",
    "dados_temp_ago = dados_temp[dados_temp['ds'].dt.month == 8]\n",
    "dados_temp_set = dados_temp[dados_temp['ds'].dt.month == 9]\n",
    "dados_temp_out = dados_temp[dados_temp['ds'].dt.month == 10]\n",
    "dados_temp_nov = dados_temp[dados_temp['ds'].dt.month == 11]\n",
    "dados_temp_dez = dados_temp[dados_temp['ds'].dt.month == 12]\n",
    "\n",
    "print(dados_temp_abr)\n"
   ]
  },
  {
   "cell_type": "code",
   "execution_count": 314,
   "metadata": {},
   "outputs": [],
   "source": [
    "dados_umid['ds']= pd.to_datetime(dados_umid['ds'])\n",
    "\n",
    "dados_umid_jan = dados_umid[dados_umid['ds'].dt.month == 1]\n",
    "dados_umid_fev = dados_umid[dados_umid['ds'].dt.month == 2]\n",
    "dados_umid_mar = dados_umid[dados_umid['ds'].dt.month == 3]\n",
    "dados_umid_apr = dados_umid[dados_umid['ds'].dt.month == 4]\n",
    "dados_umid_may = dados_umid[dados_umid['ds'].dt.month == 5]\n",
    "dados_umid_jun = dados_umid[dados_umid['ds'].dt.month == 6]\n",
    "dados_umid_jul = dados_umid[dados_umid['ds'].dt.month == 7]\n",
    "dados_umid_ago = dados_umid[dados_umid['ds'].dt.month == 8]\n",
    "dados_umid_set = dados_umid[dados_umid['ds'].dt.month == 9]\n",
    "dados_umid_out = dados_umid[dados_umid['ds'].dt.month == 10]\n",
    "dados_umid_nov = dados_umid[dados_umid['ds'].dt.month == 11]\n",
    "dados_umid_dez = dados_umid[dados_umid['ds'].dt.month == 12]"
   ]
  },
  {
   "cell_type": "code",
   "execution_count": 315,
   "metadata": {},
   "outputs": [],
   "source": [
    "dados_vent['ds']= pd.to_datetime(dados_vent['ds'])\n",
    "\n",
    "dados_vent_jan = dados_vent[dados_vent['ds'].dt.month == 1]\n",
    "dados_vent_fev = dados_vent[dados_vent['ds'].dt.month == 2]\n",
    "dados_vent_mar = dados_vent[dados_vent['ds'].dt.month == 3]\n",
    "dados_vent_apr = dados_vent[dados_vent['ds'].dt.month == 4]\n",
    "dados_vent_may = dados_vent[dados_vent['ds'].dt.month == 5]\n",
    "dados_vent_jun = dados_vent[dados_vent['ds'].dt.month == 6]\n",
    "dados_vent_jul = dados_vent[dados_vent['ds'].dt.month == 7]\n",
    "dados_vent_ago = dados_vent[dados_vent['ds'].dt.month == 8]\n",
    "dados_vent_set = dados_vent[dados_vent['ds'].dt.month == 9]\n",
    "dados_vent_out = dados_vent[dados_vent['ds'].dt.month == 10]\n",
    "dados_vent_nov = dados_vent[dados_vent['ds'].dt.month == 11]\n",
    "dados_vent_dez = dados_vent[dados_vent['ds'].dt.month == 12]\n"
   ]
  },
  {
   "cell_type": "markdown",
   "metadata": {},
   "source": [
    "## Comecando regressão linear p jan"
   ]
  },
  {
   "cell_type": "code",
   "execution_count": 316,
   "metadata": {},
   "outputs": [
    {
     "name": "stdout",
     "output_type": "stream",
     "text": [
      "NDVI previsto para jan 2026 e 2027: 0.6633500000000003 0.6644785714285715\n"
     ]
    }
   ],
   "source": [
    "# mergiando dados\n",
    "dados_jan_combinados = pd.merge(dados_precip_jan, dados_temp_jan, on='ds', suffixes=('_precip', '_temp'))\n",
    "dados_jan_combinados = pd.merge(dados_jan_combinados, dados_umid_jan, on='ds')\n",
    "dados_jan_combinados = pd.merge(dados_jan_combinados, dados_vent_jan, on='ds', suffixes=('', '_vent'))\n",
    "dados_jan_combinados = dados_jan_combinados.rename(columns={'yhat1': 'yhat1_umid', 'yhat1_vent': 'yhat1_vento'})\n",
    "dados_jan_combinados = dados_jan_combinados.rename(columns={'ds': 'data'})\n",
    "\n",
    "#arrmando tipo data ndvi\n",
    "dados_jan_combinados['data'] = dados_jan_combinados['data'].dt.year\n",
    "\n",
    "#mergiar com ndvi\n",
    "dados_jan_final = pd.merge(dados_jan_combinados, media_mensal_jan_ndvi, on='data')\n",
    "\n",
    "# Supondo que media_mensal_jan_ndvi já tenha 'ano' e 'ndvi'\n",
    "X = media_mensal_jan_ndvi['data'].values.reshape(-1, 1)\n",
    "y = media_mensal_jan_ndvi['ndvi'].values  # NDVI\n",
    "\n",
    "modelo = LinearRegression()\n",
    "modelo.fit(X, y)\n",
    "\n",
    "# Prever para 2026\n",
    "ndvi_jan_2026 = modelo.predict(np.array([[2026]]))\n",
    "ndvi_jan_2027 = modelo.predict(np.array([[2027]]))\n",
    "print(\"NDVI previsto para jan 2026 e 2027:\", ndvi_jan_2026[0], ndvi_jan_2027[0])\n",
    "\n",
    "\n",
    "\n",
    "\n",
    "\n"
   ]
  },
  {
   "cell_type": "markdown",
   "metadata": {},
   "source": [
    "### Regressão linear pra fev"
   ]
  },
  {
   "cell_type": "code",
   "execution_count": 317,
   "metadata": {},
   "outputs": [
    {
     "name": "stdout",
     "output_type": "stream",
     "text": [
      "NDVI previsto para fev 2026 e 2027: 0.7027066666666677 0.6927895238095232\n"
     ]
    }
   ],
   "source": [
    "# mergiando dados\n",
    "dados_fev_combinados = pd.merge(dados_precip_fev, dados_temp_fev, on='ds', suffixes=('_precip', '_temp'))\n",
    "dados_fev_combinados = pd.merge(dados_fev_combinados, dados_umid_fev, on='ds')\n",
    "dados_fev_combinados = pd.merge(dados_fev_combinados, dados_vent_fev, on='ds', suffixes=('', '_vent'))\n",
    "dados_fev_combinados = dados_fev_combinados.rename(columns={'yhat1': 'yhat1_umid', 'yhat1_vent': 'yhat1_vento'})\n",
    "dados_fev_combinados = dados_fev_combinados.rename(columns={'ds': 'data'})\n",
    "\n",
    "#arrmando tipo data ndvi\n",
    "dados_fev_combinados['data'] = dados_fev_combinados['data'].dt.year\n",
    "\n",
    "#mergiar com ndvi\n",
    "dados_fev_final = pd.merge(dados_fev_combinados, media_mensal_fev_ndvi, on='data')\n",
    "\n",
    "# Supondo que media_mensal_jan_ndvi já tenha 'ano' e 'ndvi'\n",
    "X = media_mensal_fev_ndvi['data'].values.reshape(-1, 1)\n",
    "y = media_mensal_fev_ndvi['ndvi'].values  # NDVI\n",
    "\n",
    "modelo = LinearRegression()\n",
    "modelo.fit(X, y)\n",
    "\n",
    "# Prever para 2026\n",
    "ndvi_fev_2026 = modelo.predict(np.array([[2026]]))\n",
    "ndvi_fev_2027 = modelo.predict(np.array([[2027]]))\n",
    "\n",
    "print(\"NDVI previsto para fev 2026 e 2027:\", ndvi_fev_2026[0], ndvi_fev_2027[0])\n"
   ]
  },
  {
   "cell_type": "markdown",
   "metadata": {},
   "source": [
    "### Regressão linear pra march"
   ]
  },
  {
   "cell_type": "code",
   "execution_count": 318,
   "metadata": {},
   "outputs": [
    {
     "name": "stdout",
     "output_type": "stream",
     "text": [
      "NDVI previsto para mar 2026 e 2027: 0.6751366666666669 0.6613423809523802\n"
     ]
    }
   ],
   "source": [
    "# mergiando dados\n",
    "dados_mar_combinados = pd.merge(dados_precip_mar, dados_temp_mar, on='ds', suffixes=('_precip', '_temp'))\n",
    "dados_mar_combinados = pd.merge(dados_mar_combinados, dados_umid_mar, on='ds')\n",
    "dados_mar_combinados = pd.merge(dados_mar_combinados, dados_vent_mar, on='ds', suffixes=('', '_vent'))\n",
    "dados_mar_combinados = dados_mar_combinados.rename(columns={'yhat1': 'yhat1_umid', 'yhat1_vent': 'yhat1_vento'})\n",
    "dados_mar_combinados = dados_mar_combinados.rename(columns={'ds': 'data'})\n",
    "\n",
    "#arrmando tipo data ndvi\n",
    "dados_mar_combinados['data'] = dados_mar_combinados['data'].dt.year\n",
    "\n",
    "#mergiar com ndvi\n",
    "dados_mar_final = pd.merge(dados_mar_combinados, media_mensal_mar_ndvi, on='data')\n",
    "\n",
    "X = media_mensal_mar_ndvi['data'].values.reshape(-1, 1)\n",
    "y = media_mensal_mar_ndvi['ndvi'].values \n",
    "\n",
    "modelo = LinearRegression()\n",
    "modelo.fit(X, y)\n",
    "\n",
    "# Prever para 2026\n",
    "ndvi_mar_2026 = modelo.predict(np.array([[2026]]))\n",
    "ndvi_mar_2027 = modelo.predict(np.array([[2027]]))\n",
    "\n",
    "print(\"NDVI previsto para mar 2026 e 2027:\", ndvi_mar_2026[0], ndvi_mar_2027[0])\n"
   ]
  },
  {
   "cell_type": "markdown",
   "metadata": {},
   "source": [
    "### Regressão linear abril"
   ]
  },
  {
   "cell_type": "code",
   "execution_count": 319,
   "metadata": {},
   "outputs": [
    {
     "name": "stdout",
     "output_type": "stream",
     "text": [
      "NDVI previsto para apr 2026 e 2027: 0.8116933333333378 0.8329819047619083\n"
     ]
    }
   ],
   "source": [
    "# mergiando dados\n",
    "dados_apr_combinados = pd.merge(dados_precip_apr, dados_temp_apr, on='ds', suffixes=('_precip', '_temp'))\n",
    "dados_apr_combinados = pd.merge(dados_apr_combinados, dados_umid_apr, on='ds')\n",
    "dados_apr_combinados = pd.merge(dados_apr_combinados, dados_vent_apr, on='ds', suffixes=('', '_vent'))\n",
    "dados_apr_combinados = dados_apr_combinados.rename(columns={'yhat1': 'yhat1_umid', 'yhat1_vent': 'yhat1_vento'})\n",
    "dados_apr_combinados = dados_apr_combinados.rename(columns={'ds': 'data'})\n",
    "\n",
    "# arrumando tipo data ndvi\n",
    "dados_apr_combinados['data'] = dados_apr_combinados['data'].dt.year\n",
    "\n",
    "# mergiar com ndvi\n",
    "dados_apr_final = pd.merge(dados_apr_combinados, media_mensal_apr_ndvi, on='data')\n",
    "\n",
    "X = media_mensal_apr_ndvi['data'].values.reshape(-1, 1)\n",
    "y = media_mensal_apr_ndvi['ndvi'].values \n",
    "\n",
    "modelo = LinearRegression()\n",
    "modelo.fit(X, y)\n",
    "\n",
    "# Prever para 2026 e 2027\n",
    "ndvi_apr_2026 = modelo.predict(np.array([[2026]]))\n",
    "ndvi_apr_2027 = modelo.predict(np.array([[2027]]))\n",
    "\n",
    "print(\"NDVI previsto para apr 2026 e 2027:\", ndvi_apr_2026[0], ndvi_apr_2027[0])\n"
   ]
  },
  {
   "cell_type": "markdown",
   "metadata": {},
   "source": [
    "### Regressão linear maio"
   ]
  },
  {
   "cell_type": "code",
   "execution_count": 320,
   "metadata": {},
   "outputs": [
    {
     "name": "stdout",
     "output_type": "stream",
     "text": [
      "NDVI previsto para may 2026 e 2027: 0.6545933333333309 0.6285247619047638\n"
     ]
    }
   ],
   "source": [
    "# mergiando dados\n",
    "dados_may_combinados = pd.merge(dados_precip_may, dados_temp_may, on='ds', suffixes=('_precip', '_temp'))\n",
    "dados_may_combinados = pd.merge(dados_may_combinados, dados_umid_may, on='ds')\n",
    "dados_may_combinados = pd.merge(dados_may_combinados, dados_vent_may, on='ds', suffixes=('', '_vent'))\n",
    "dados_may_combinados = dados_may_combinados.rename(columns={'yhat1': 'yhat1_umid', 'yhat1_vent': 'yhat1_vento'})\n",
    "dados_may_combinados = dados_may_combinados.rename(columns={'ds': 'data'})\n",
    "\n",
    "# arrumando tipo data ndvi\n",
    "dados_may_combinados['data'] = dados_may_combinados['data'].dt.year\n",
    "\n",
    "# mergiar com ndvi\n",
    "dados_may_final = pd.merge(dados_may_combinados, media_mensal_may_ndvi, on='data')\n",
    "\n",
    "X = media_mensal_may_ndvi['data'].values.reshape(-1, 1)\n",
    "y = media_mensal_may_ndvi['ndvi'].values \n",
    "\n",
    "modelo = LinearRegression()\n",
    "modelo.fit(X, y)\n",
    "\n",
    "# Prever para 2026 e 2027\n",
    "ndvi_may_2026 = modelo.predict(np.array([[2026]]))\n",
    "ndvi_may_2027 = modelo.predict(np.array([[2027]]))\n",
    "\n",
    "print(\"NDVI previsto para may 2026 e 2027:\", ndvi_may_2026[0], ndvi_may_2027[0])\n"
   ]
  },
  {
   "cell_type": "markdown",
   "metadata": {},
   "source": [
    "### Regressão linear junho"
   ]
  },
  {
   "cell_type": "code",
   "execution_count": 321,
   "metadata": {},
   "outputs": [
    {
     "name": "stdout",
     "output_type": "stream",
     "text": [
      "NDVI previsto para jun 2026 e 2027: 0.6041933333333276 0.565103333333326\n"
     ]
    }
   ],
   "source": [
    "# mergiando dados\n",
    "dados_jun_combinados = pd.merge(dados_precip_jun, dados_temp_jun, on='ds', suffixes=('_precip', '_temp'))\n",
    "dados_jun_combinados = pd.merge(dados_jun_combinados, dados_umid_jun, on='ds')\n",
    "dados_jun_combinados = pd.merge(dados_jun_combinados, dados_vent_jun, on='ds', suffixes=('', '_vent'))\n",
    "dados_jun_combinados = dados_jun_combinados.rename(columns={'yhat1': 'yhat1_umid', 'yhat1_vent': 'yhat1_vento'})\n",
    "dados_jun_combinados = dados_jun_combinados.rename(columns={'ds': 'data'})\n",
    "\n",
    "# arrumando tipo data ndvi\n",
    "dados_jun_combinados['data'] = dados_jun_combinados['data'].dt.year\n",
    "\n",
    "# mergiar com ndvi\n",
    "dados_jun_final = pd.merge(dados_jun_combinados, media_mensal_jun_ndvi, on='data')\n",
    "\n",
    "X = media_mensal_jun_ndvi['data'].values.reshape(-1, 1)\n",
    "y = media_mensal_jun_ndvi['ndvi'].values \n",
    "\n",
    "modelo = LinearRegression()\n",
    "modelo.fit(X, y)\n",
    "\n",
    "# Prever para 2026 e 2027\n",
    "ndvi_jun_2026 = modelo.predict(np.array([[2026]]))\n",
    "ndvi_jun_2027 = modelo.predict(np.array([[2027]]))\n",
    "\n",
    "print(\"NDVI previsto para jun 2026 e 2027:\", ndvi_jun_2026[0], ndvi_jun_2027[0])\n"
   ]
  },
  {
   "cell_type": "markdown",
   "metadata": {},
   "source": [
    "### Regressão linear julho"
   ]
  },
  {
   "cell_type": "code",
   "execution_count": 322,
   "metadata": {},
   "outputs": [
    {
     "name": "stdout",
     "output_type": "stream",
     "text": [
      "NDVI previsto para jul 2026 e 2027: 0.795983333333325 0.8317476190476043\n"
     ]
    }
   ],
   "source": [
    "# mergiando dados\n",
    "dados_jul_combinados = pd.merge(dados_precip_jul, dados_temp_jul, on='ds', suffixes=('_precip', '_temp'))\n",
    "dados_jul_combinados = pd.merge(dados_jul_combinados, dados_umid_jul, on='ds')\n",
    "dados_jul_combinados = pd.merge(dados_jul_combinados, dados_vent_jul, on='ds', suffixes=('', '_vent'))\n",
    "dados_jul_combinados = dados_jul_combinados.rename(columns={'yhat1': 'yhat1_umid', 'yhat1_vent': 'yhat1_vento'})\n",
    "dados_jul_combinados = dados_jul_combinados.rename(columns={'ds': 'data'})\n",
    "\n",
    "# arrumando tipo data ndvi\n",
    "dados_jul_combinados['data'] = dados_jul_combinados['data'].dt.year\n",
    "\n",
    "# mergiar com ndvi\n",
    "dados_jul_final = pd.merge(dados_jul_combinados, media_mensal_jul_ndvi, on='data')\n",
    "\n",
    "X = media_mensal_jul_ndvi['data'].values.reshape(-1, 1)\n",
    "y = media_mensal_jul_ndvi['ndvi'].values \n",
    "\n",
    "modelo = LinearRegression()\n",
    "modelo.fit(X, y)\n",
    "\n",
    "# Prever para 2026 e 2027\n",
    "ndvi_jul_2026 = modelo.predict(np.array([[2026]]))\n",
    "ndvi_jul_2027 = modelo.predict(np.array([[2027]]))\n",
    "\n",
    "print(\"NDVI previsto para jul 2026 e 2027:\", ndvi_jul_2026[0], ndvi_jul_2027[0])\n"
   ]
  },
  {
   "cell_type": "code",
   "execution_count": 323,
   "metadata": {},
   "outputs": [
    {
     "name": "stdout",
     "output_type": "stream",
     "text": [
      "NDVI previsto para ago 2026 e 2027: 0.762123333333335 0.7978133333333375\n"
     ]
    }
   ],
   "source": [
    "# mergiando dados\n",
    "dados_ago_combinados = pd.merge(dados_precip_ago, dados_temp_ago, on='ds', suffixes=('_precip', '_temp'))\n",
    "dados_ago_combinados = pd.merge(dados_ago_combinados, dados_umid_ago, on='ds')\n",
    "dados_ago_combinados = pd.merge(dados_ago_combinados, dados_vent_ago, on='ds', suffixes=('', '_vent'))\n",
    "dados_ago_combinados = dados_ago_combinados.rename(columns={'yhat1': 'yhat1_umid', 'yhat1_vent': 'yhat1_vento'})\n",
    "dados_ago_combinados = dados_ago_combinados.rename(columns={'ds': 'data'})\n",
    "\n",
    "# arrumando tipo data ndvi\n",
    "dados_ago_combinados['data'] = dados_ago_combinados['data'].dt.year\n",
    "\n",
    "# mergiar com ndvi\n",
    "dados_ago_final = pd.merge(dados_ago_combinados, media_mensal_ago_ndvi, on='data')\n",
    "\n",
    "X = media_mensal_ago_ndvi['data'].values.reshape(-1, 1)\n",
    "y = media_mensal_ago_ndvi['ndvi'].values \n",
    "\n",
    "modelo = LinearRegression()\n",
    "modelo.fit(X, y)\n",
    "\n",
    "# Prever para 2026 e 2027\n",
    "ndvi_ago_2026 = modelo.predict(np.array([[2026]]))\n",
    "ndvi_ago_2027 = modelo.predict(np.array([[2027]]))\n",
    "\n",
    "print(\"NDVI previsto para ago 2026 e 2027:\", ndvi_ago_2026[0], ndvi_ago_2027[0])\n"
   ]
  },
  {
   "cell_type": "code",
   "execution_count": 324,
   "metadata": {},
   "outputs": [
    {
     "name": "stdout",
     "output_type": "stream",
     "text": [
      "NDVI previsto para set 2026 e 2027: 0.8229966666666684 0.8745766666666697\n"
     ]
    }
   ],
   "source": [
    "# mergiando dados\n",
    "dados_set_combinados = pd.merge(dados_precip_set, dados_temp_set, on='ds', suffixes=('_precip', '_temp'))\n",
    "dados_set_combinados = pd.merge(dados_set_combinados, dados_umid_set, on='ds')\n",
    "dados_set_combinados = pd.merge(dados_set_combinados, dados_vent_set, on='ds', suffixes=('', '_vent'))\n",
    "dados_set_combinados = dados_set_combinados.rename(columns={'yhat1': 'yhat1_umid', 'yhat1_vent': 'yhat1_vento'})\n",
    "dados_set_combinados = dados_set_combinados.rename(columns={'ds': 'data'})\n",
    "\n",
    "# arrumando tipo data ndvi\n",
    "dados_set_combinados['data'] = dados_set_combinados['data'].dt.year\n",
    "\n",
    "# mergiar com ndvi\n",
    "dados_set_final = pd.merge(dados_set_combinados, media_mensal_set_ndvi, on='data')\n",
    "\n",
    "X = media_mensal_set_ndvi['data'].values.reshape(-1, 1)\n",
    "y = media_mensal_set_ndvi['ndvi'].values \n",
    "\n",
    "modelo = LinearRegression()\n",
    "modelo.fit(X, y)\n",
    "\n",
    "# Prever para 2026 e 2027\n",
    "ndvi_set_2026 = modelo.predict(np.array([[2026]]))\n",
    "ndvi_set_2027 = modelo.predict(np.array([[2027]]))\n",
    "\n",
    "print(\"NDVI previsto para set 2026 e 2027:\", ndvi_set_2026[0], ndvi_set_2027[0])"
   ]
  },
  {
   "cell_type": "code",
   "execution_count": 325,
   "metadata": {},
   "outputs": [
    {
     "name": "stdout",
     "output_type": "stream",
     "text": [
      "NDVI previsto para nov 2026 e 2027: 0.5516499999999986 0.542544999999997\n"
     ]
    }
   ],
   "source": [
    "# mergiando dados\n",
    "dados_nov_combinados = pd.merge(dados_precip_nov, dados_temp_nov, on='ds', suffixes=('_precip', '_temp'))\n",
    "dados_nov_combinados = pd.merge(dados_nov_combinados, dados_umid_nov, on='ds')\n",
    "dados_nov_combinados = pd.merge(dados_nov_combinados, dados_vent_nov, on='ds', suffixes=('', '_vent'))\n",
    "dados_nov_combinados = dados_nov_combinados.rename(columns={'yhat1': 'yhat1_umid', 'yhat1_vent': 'yhat1_vento'})\n",
    "dados_nov_combinados = dados_nov_combinados.rename(columns={'ds': 'data'})\n",
    "\n",
    "# arrumando tipo data ndvi\n",
    "dados_nov_combinados['data'] = dados_nov_combinados['data'].dt.year\n",
    "\n",
    "# mergiar com ndvi\n",
    "dados_nov_final = pd.merge(dados_nov_combinados, media_mensal_nov_ndvi, on='data')\n",
    "\n",
    "X = media_mensal_nov_ndvi['data'].values.reshape(-1, 1)\n",
    "y = media_mensal_nov_ndvi['ndvi'].values \n",
    "\n",
    "modelo = LinearRegression()\n",
    "modelo.fit(X, y)\n",
    "\n",
    "# Prever para 2026 e 2027\n",
    "ndvi_nov_2026 = modelo.predict(np.array([[2026]]))\n",
    "ndvi_nov_2027 = modelo.predict(np.array([[2027]]))\n",
    "\n",
    "print(\"NDVI previsto para nov 2026 e 2027:\", ndvi_nov_2026[0], ndvi_nov_2027[0])\n"
   ]
  },
  {
   "cell_type": "markdown",
   "metadata": {},
   "source": [
    "### Regressão linear dezembro"
   ]
  },
  {
   "cell_type": "code",
   "execution_count": 329,
   "metadata": {},
   "outputs": [
    {
     "name": "stdout",
     "output_type": "stream",
     "text": [
      "NDVI previsto para dez 2026 e 2027: 0.5167799999999971 0.462600000000009\n"
     ]
    }
   ],
   "source": [
    "# mergiando dados\n",
    "dados_dez_combinados = pd.merge(dados_precip_dez, dados_temp_dez, on='ds', suffixes=('_precip', '_temp'))\n",
    "dados_dez_combinados = pd.merge(dados_dez_combinados, dados_umid_dez, on='ds')\n",
    "dados_dez_combinados = pd.merge(dados_dez_combinados, dados_vent_dez, on='ds', suffixes=('', '_vent'))\n",
    "dados_dez_combinados = dados_dez_combinados.rename(columns={'yhat1': 'yhat1_umid', 'yhat1_vent': 'yhat1_vento'})\n",
    "dados_dez_combinados = dados_dez_combinados.rename(columns={'ds': 'data'})\n",
    "\n",
    "# arrumando tipo data ndvi\n",
    "dados_dez_combinados['data'] = dados_dez_combinados['data'].dt.year\n",
    "\n",
    "# mergiar com ndvi\n",
    "dados_dez_final = pd.merge(dados_dez_combinados, media_mensal_dec_ndvi, on='data')\n",
    "\n",
    "X = media_mensal_dec_ndvi['data'].values.reshape(-1, 1)\n",
    "y = media_mensal_dec_ndvi['ndvi'].values \n",
    "\n",
    "modelo = LinearRegression()\n",
    "modelo.fit(X, y)\n",
    "\n",
    "# Prever para 2026 e 2027\n",
    "ndvi_dez_2026 = modelo.predict(np.array([[2026]]))\n",
    "ndvi_dez_2027 = modelo.predict(np.array([[2027]]))\n",
    "\n",
    "print(\"NDVI previsto para dez 2026 e 2027:\", ndvi_dez_2026[0], ndvi_dez_2027[0])"
   ]
  },
  {
   "cell_type": "markdown",
   "metadata": {},
   "source": [
    "### Juntando infos"
   ]
  },
  {
   "cell_type": "code",
   "execution_count": 341,
   "metadata": {},
   "outputs": [],
   "source": [
    "meses = ['jan', 'feb', 'mar', 'apr', 'may', 'jun', 'jul', 'ago', 'set', 'nov', 'dez']\n",
    "\n",
    "ndvi_2026 = [\n",
    "    ndvi_jan_2026[0], ndvi_fev_2026[0], ndvi_mar_2026[0],\n",
    "    ndvi_apr_2026[0], ndvi_may_2026[0], ndvi_jun_2026[0],\n",
    "    ndvi_jul_2026[0], ndvi_ago_2026[0], ndvi_set_2026[0],\n",
    "    ndvi_nov_2026[0], ndvi_dez_2026[0]\n",
    "]\n",
    "\n",
    "ndvi_2027 = [\n",
    "    ndvi_jan_2027[0], ndvi_fev_2027[0], ndvi_mar_2027[0],\n",
    "    ndvi_apr_2027[0], ndvi_may_2027[0], ndvi_jun_2027[0],\n",
    "    ndvi_jul_2027[0], ndvi_ago_2027[0], ndvi_set_2027[0],\n",
    "    ndvi_nov_2027[0], ndvi_dez_2027[0]\n",
    "]\n",
    "\n",
    "dados_ndvi = pd.DataFrame({\n",
    "    'ano': [2026]*len(meses) + [2027]*len(meses),\n",
    "    'mes': meses + meses,  # repetir os meses para 2026 e 2027\n",
    "    'previsao': [\n",
    "        ndvi_jan_2026[0], ndvi_fev_2026[0], ndvi_mar_2026[0],\n",
    "        ndvi_apr_2026[0], ndvi_may_2026[0], ndvi_jun_2026[0],\n",
    "        ndvi_jul_2026[0], ndvi_ago_2026[0], ndvi_set_2026[0],\n",
    "        ndvi_nov_2026[0], ndvi_dez_2026[0],\n",
    "        ndvi_jan_2027[0], ndvi_fev_2027[0], ndvi_mar_2027[0],\n",
    "        ndvi_apr_2027[0], ndvi_may_2027[0], ndvi_jun_2027[0],\n",
    "        ndvi_jul_2027[0], ndvi_ago_2027[0], ndvi_set_2027[0],\n",
    "        ndvi_nov_2027[0], ndvi_dez_2027[0]\n",
    "    ]\n",
    "})\n",
    "\n",
    "\n",
    "\n",
    "\n",
    "\n",
    "dados_ndvi.to_csv('ndvi_previsao_2026-2027.csv',index= False)"
   ]
  }
 ],
 "metadata": {
  "kernelspec": {
   "display_name": "Python 3",
   "language": "python",
   "name": "python3"
  },
  "language_info": {
   "codemirror_mode": {
    "name": "ipython",
    "version": 3
   },
   "file_extension": ".py",
   "mimetype": "text/x-python",
   "name": "python",
   "nbconvert_exporter": "python",
   "pygments_lexer": "ipython3",
   "version": "3.10.12"
  }
 },
 "nbformat": 4,
 "nbformat_minor": 2
}
